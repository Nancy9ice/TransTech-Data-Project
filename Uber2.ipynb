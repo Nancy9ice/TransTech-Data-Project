{
 "cells": [
  {
   "cell_type": "code",
   "execution_count": 1,
   "id": "97432611",
   "metadata": {},
   "outputs": [],
   "source": [
    "from pyspark.sql.functions import *\n",
    "from pyspark.sql import SparkSession\n",
    "from pyspark.storagelevel import StorageLevel\n",
    "from pyspark import SparkConf, SparkContext"
   ]
  },
  {
   "cell_type": "code",
   "execution_count": 2,
   "id": "c6f8e822",
   "metadata": {},
   "outputs": [],
   "source": [
    "# configure Spark\n",
    "conf = SparkConf().setAppName(\"MyApp\") \\\n",
    "                  .setMaster(\"local[*]\") \\\n",
    "                  .set(\"spark.executor.memory\", \"4g\") \\\n",
    "                  .set(\"spark.driver.memory\", \"2g\") \\\n",
    "                  .set(\"spark.executor.cores\", \"2\")\n",
    "# sc = SparkContext(conf=conf)"
   ]
  },
  {
   "cell_type": "code",
   "execution_count": 3,
   "id": "ced03d29",
   "metadata": {},
   "outputs": [],
   "source": [
    "# create Spark session\n",
    "spark = SparkSession.builder \\\n",
    "    .config(conf=conf) \\\n",
    "    .getOrCreate()"
   ]
  },
  {
   "cell_type": "code",
   "execution_count": 4,
   "id": "3d74cda0",
   "metadata": {},
   "outputs": [
    {
     "data": {
      "text/html": [
       "\n",
       "            <div>\n",
       "                <p><b>SparkSession - in-memory</b></p>\n",
       "                \n",
       "        <div>\n",
       "            <p><b>SparkContext</b></p>\n",
       "\n",
       "            <p><a href=\"http://DESKTOP-LDP3CPA.mshome.net:4041\">Spark UI</a></p>\n",
       "\n",
       "            <dl>\n",
       "              <dt>Version</dt>\n",
       "                <dd><code>v3.3.1</code></dd>\n",
       "              <dt>Master</dt>\n",
       "                <dd><code>local[*]</code></dd>\n",
       "              <dt>AppName</dt>\n",
       "                <dd><code>MyApp</code></dd>\n",
       "            </dl>\n",
       "        </div>\n",
       "        \n",
       "            </div>\n",
       "        "
      ],
      "text/plain": [
       "<pyspark.sql.session.SparkSession at 0x2aca7adcb20>"
      ]
     },
     "execution_count": 4,
     "metadata": {},
     "output_type": "execute_result"
    }
   ],
   "source": [
    "spark"
   ]
  },
  {
   "cell_type": "code",
   "execution_count": 5,
   "id": "a0b8d83f",
   "metadata": {},
   "outputs": [],
   "source": [
    "spark.conf.set(\"spark.sql.legacy.timeParserPolicy\", \"LEGACY\")"
   ]
  },
  {
   "cell_type": "code",
   "execution_count": 6,
   "id": "5c8fc6e9",
   "metadata": {},
   "outputs": [],
   "source": [
    "# Read the uber file into a pyspark dataframe\n",
    "uber2 = spark.read.csv(\"C:\\\\Users\\\\USER\\\\TransTech Project\\\\uber-raw-data-aug14.csv\", header=True)"
   ]
  },
  {
   "cell_type": "code",
   "execution_count": 7,
   "id": "6ca5e842",
   "metadata": {},
   "outputs": [],
   "source": [
    "# Read the uber file into a pyspark dataframe\n",
    "base = spark.read.csv(\"C:\\\\Users\\\\USER\\\\TransTech Project\\\\TLC Affiliated Base.csv\", header=True)"
   ]
  },
  {
   "cell_type": "code",
   "execution_count": 8,
   "id": "98e7c79b",
   "metadata": {},
   "outputs": [],
   "source": [
    "# Change the names of the columns to align with the ones in other datasets\n",
    "columns_mapping = {\"Date/Time\": \"Date_time\", \"Lat\": \"Latitude\", \"Lon\": \"Longitude\"}\n",
    "\n",
    "for old_name, new_name in columns_mapping.items():\n",
    "    uber2 = uber2.withColumnRenamed(old_name, new_name)"
   ]
  },
  {
   "cell_type": "code",
   "execution_count": 9,
   "id": "f001e88f",
   "metadata": {},
   "outputs": [],
   "source": [
    "# split the date_time columns\n",
    "uber2 = uber2.withColumn(\"DATE_TIME\", split(uber2[\"DATE_TIME\"], \" \"))\n",
    "uber2 = uber2.withColumn(\"Date\", uber2[\"DATE_TIME\"].getItem(0))\n",
    "uber2 = uber2.withColumn(\"Time\", uber2[\"DATE_TIME\"].getItem(1))"
   ]
  },
  {
   "cell_type": "code",
   "execution_count": 10,
   "id": "9ed507b5",
   "metadata": {},
   "outputs": [],
   "source": [
    "# drop irrelevant columns\n",
    "uber2 = uber2.drop(\"DATE_TIME\")"
   ]
  },
  {
   "cell_type": "code",
   "execution_count": 11,
   "id": "81b4c1f3",
   "metadata": {},
   "outputs": [],
   "source": [
    "# convert data type of DATE column to Date datatype\n",
    "uber2 = uber2.withColumn(\"DATE\", to_date(uber2[\"DATE\"], \"MM/dd/yyyy\"))"
   ]
  },
  {
   "cell_type": "code",
   "execution_count": 12,
   "id": "2be7183e",
   "metadata": {},
   "outputs": [],
   "source": [
    "# convert the \"time_column\" from string to 24 hour time format\n",
    "uber2 = uber2.withColumn(\"TIME\", col(\"TIME\"))"
   ]
  },
  {
   "cell_type": "code",
   "execution_count": 13,
   "id": "d776fe22",
   "metadata": {},
   "outputs": [],
   "source": [
    "# cast longitude and latitude columns to double_precision\n",
    "uber2 = uber2.withColumn(\"Latitude\", col(\"Latitude\").cast(\"double\")) \\\n",
    "                           .withColumn(\"Longitude\", col(\"Longitude\").cast(\"double\"))"
   ]
  },
  {
   "cell_type": "code",
   "execution_count": 14,
   "id": "083df6e8",
   "metadata": {},
   "outputs": [],
   "source": [
    "# Add a new column to the dataset\n",
    "uber2 = uber2.withColumn(\"COMPANY\", lit(\"Uber\"))"
   ]
  },
  {
   "cell_type": "code",
   "execution_count": 15,
   "id": "aa96e8da",
   "metadata": {},
   "outputs": [],
   "source": [
    "# join the uber dataframe to the base dataframe\n",
    "uber2 = uber2.join(base, uber2.Base== base.Base_Code)"
   ]
  },
  {
   "cell_type": "code",
   "execution_count": 16,
   "id": "d921134d",
   "metadata": {},
   "outputs": [],
   "source": [
    "# rearrange the columns\n",
    "uber2 = uber2.selectExpr(\"Date\", \"Time\", \"Company\", \"Base_Code\", \"Base_Name\", \"Base_Region\", \"Latitude\", \"Longitude\")"
   ]
  },
  {
   "cell_type": "code",
   "execution_count": 17,
   "id": "37de2210",
   "metadata": {},
   "outputs": [],
   "source": [
    "# remove blank cells\n",
    "uber2 = uber2.dropna()"
   ]
  },
  {
   "cell_type": "code",
   "execution_count": 18,
   "id": "b22eea8b",
   "metadata": {},
   "outputs": [],
   "source": [
    "# drop duplicates\n",
    "uber2 = uber2.dropDuplicates()"
   ]
  },
  {
   "cell_type": "code",
   "execution_count": 19,
   "id": "92729dfc",
   "metadata": {},
   "outputs": [
    {
     "data": {
      "text/plain": [
       "DataFrame[Date: date, Time: string, Company: string, Base_Code: string, Base_Name: string, Base_Region: string, Latitude: double, Longitude: double]"
      ]
     },
     "execution_count": 19,
     "metadata": {},
     "output_type": "execute_result"
    }
   ],
   "source": [
    "# Cache the table\n",
    "uber2.cache()"
   ]
  },
  {
   "cell_type": "code",
   "execution_count": 20,
   "id": "87cded8a",
   "metadata": {},
   "outputs": [],
   "source": [
    "# write to postgresql server database\n",
    "uber2.write \\\n",
    "  .format(\"jdbc\") \\\n",
    "  .option(\"url\", \"jdbc:postgresql://localhost:5432/postgis_33_sample\") \\\n",
    "  .option(\"dbtable\", \"uber2014\") \\\n",
    "  .option(\"user\", \"postgres\") \\\n",
    "  .option(\"password\", \"*********\") \\\n",
    "  .option(\"batchsize\", 1000) \\\n",
    "  .mode(\"append\") \\\n",
    "  .save()"
   ]
  },
  {
   "cell_type": "code",
   "execution_count": null,
   "id": "394709a9",
   "metadata": {},
   "outputs": [],
   "source": []
  }
 ],
 "metadata": {
  "kernelspec": {
   "display_name": "Python 3 (ipykernel)",
   "language": "python",
   "name": "python3"
  },
  "language_info": {
   "codemirror_mode": {
    "name": "ipython",
    "version": 3
   },
   "file_extension": ".py",
   "mimetype": "text/x-python",
   "name": "python",
   "nbconvert_exporter": "python",
   "pygments_lexer": "ipython3",
   "version": "3.9.13"
  }
 },
 "nbformat": 4,
 "nbformat_minor": 5
}
